{
 "cells": [
  {
   "cell_type": "markdown",
   "metadata": {
    "deletable": false,
    "editable": false,
    "nbgrader": {
     "cell_type": "markdown",
     "checksum": "a654c96d05dddf55e86e5273a4ad88a0",
     "grade": false,
     "grade_id": "cell-ebf50e86d7f66977",
     "locked": true,
     "schema_version": 3,
     "solution": false
    }
   },
   "source": [
    "# Exercise 5. Recurrent neural networks\n",
    "\n",
    "## Part 1. Training a translation model one sequence at a time\n",
    "\n",
    "## Learning goals of part 1\n",
    "\n",
    "* to get familiar with recurrent neural networks used for sequential data processing\n",
    "* to get familiar with the sequence-to-sequence model for machine translation\n",
    "\n",
    "You may find it useful to look at this tutorial:\n",
    "* [Translation with a Sequence to Sequence Network and Attention](https://pytorch.org/tutorials/intermediate/seq2seq_translation_tutorial.html)"
   ]
  },
  {
   "cell_type": "code",
   "execution_count": 1,
   "metadata": {},
   "outputs": [],
   "source": [
    "skip_training = False  # Set this flag to True before validation and submission"
   ]
  },
  {
   "cell_type": "code",
   "execution_count": 2,
   "metadata": {
    "deletable": false,
    "editable": false,
    "nbgrader": {
     "cell_type": "code",
     "checksum": "65e2970339980ef7d85c3754662c4ee8",
     "grade": true,
     "grade_id": "evaluation_settings",
     "locked": true,
     "points": 0,
     "schema_version": 3,
     "solution": false
    }
   },
   "outputs": [],
   "source": [
    "# During evaluation, this cell sets skip_training to True\n",
    "# skip_training = True"
   ]
  },
  {
   "cell_type": "code",
   "execution_count": 3,
   "metadata": {
    "deletable": false,
    "nbgrader": {
     "cell_type": "code",
     "checksum": "206189bfc07ca0dfd1919de315136e94",
     "grade": false,
     "grade_id": "cell-7cb793aa083203d5",
     "locked": false,
     "schema_version": 3,
     "solution": true,
     "task": false
    }
   },
   "outputs": [
    {
     "name": "stdout",
     "output_type": "stream",
     "text": [
      "The data directory is /coursedata\n"
     ]
    }
   ],
   "source": [
    "# Select data directory\n",
    "import os\n",
    "if os.path.isdir('/coursedata'):\n",
    "    course_data_dir = '/coursedata'\n",
    "elif os.path.isdir('../data'):\n",
    "    course_data_dir = '../data'\n",
    "else:\n",
    "    # Specify course_data_dir on your machine\n",
    "    # course_data_dir = ...\n",
    "    # YOUR CODE HERE\n",
    "    raise NotImplementedError()\n",
    "\n",
    "print('The data directory is %s' % course_data_dir)"
   ]
  },
  {
   "cell_type": "code",
   "execution_count": 4,
   "metadata": {
    "deletable": false,
    "editable": false,
    "nbgrader": {
     "cell_type": "code",
     "checksum": "43e9553618cbf3a00ab7c90607e62a2f",
     "grade": false,
     "grade_id": "cell-1e9abe1f73cbfc08",
     "locked": true,
     "schema_version": 3,
     "solution": false
    }
   },
   "outputs": [],
   "source": [
    "import os\n",
    "import random\n",
    "import numpy as np\n",
    "\n",
    "import torch\n",
    "import torch.nn as nn\n",
    "from torch import optim\n",
    "import torch.nn.functional as F"
   ]
  },
  {
   "cell_type": "code",
   "execution_count": 5,
   "metadata": {},
   "outputs": [],
   "source": [
    "# Select the device for training (use GPU if you have one)\n",
    "#device = torch.device('cuda:0')\n",
    "device = torch.device('cpu')"
   ]
  },
  {
   "cell_type": "code",
   "execution_count": 6,
   "metadata": {
    "deletable": false,
    "editable": false,
    "nbgrader": {
     "cell_type": "code",
     "checksum": "cf7664b5f4dbc9a58c95b639ab60792d",
     "grade": false,
     "grade_id": "cell-ca2b059fa5680b32",
     "locked": true,
     "schema_version": 3,
     "solution": false
    }
   },
   "outputs": [],
   "source": [
    "if skip_training:\n",
    "    # The models are always evaluated on CPU\n",
    "    device = torch.device(\"cpu\")"
   ]
  },
  {
   "cell_type": "markdown",
   "metadata": {
    "deletable": false,
    "editable": false,
    "nbgrader": {
     "cell_type": "markdown",
     "checksum": "44c93ed43eb96c68ec18abb23c390179",
     "grade": false,
     "grade_id": "cell-8b0f174de81f2ae7",
     "locked": true,
     "schema_version": 3,
     "solution": false
    }
   },
   "source": [
    "## Data\n",
    "\n",
    "The dataset that we are going to use consists of pairs of sentences in French and English."
   ]
  },
  {
   "cell_type": "code",
   "execution_count": 7,
   "metadata": {
    "deletable": false,
    "editable": false,
    "nbgrader": {
     "cell_type": "code",
     "checksum": "2f5c730885eb3870c1f65f40ab811f0f",
     "grade": false,
     "grade_id": "cell-f30028f7e1e6e5a1",
     "locked": true,
     "schema_version": 3,
     "solution": false
    }
   },
   "outputs": [],
   "source": [
    "from data import TranslationDataset, MAX_LENGTH, SOS_token, EOS_token"
   ]
  },
  {
   "cell_type": "code",
   "execution_count": 8,
   "metadata": {
    "deletable": false,
    "editable": false,
    "nbgrader": {
     "cell_type": "code",
     "checksum": "93f8a05c0613388e47b59610c691bd87",
     "grade": false,
     "grade_id": "cell-c2ae48a91eff5fd6",
     "locked": true,
     "schema_version": 3,
     "solution": false
    }
   },
   "outputs": [],
   "source": [
    "data_dir = os.path.join(course_data_dir, 'translation_data')\n",
    "trainset = TranslationDataset(path=data_dir, train=True)"
   ]
  },
  {
   "cell_type": "markdown",
   "metadata": {
    "deletable": false,
    "editable": false,
    "nbgrader": {
     "cell_type": "markdown",
     "checksum": "c4a95a026b680f28478494cbd846c86a",
     "grade": false,
     "grade_id": "cell-57d874191ca04b5e",
     "locked": true,
     "schema_version": 3,
     "solution": false
    }
   },
   "source": [
    "* `TranslationDataset` supports indexing as required by `torch.utils.data.Dataset`\n",
    "* Sentences are tensors of maximum length `MAX_LENGTH`\n",
    "* Words in a (sentence) tensor are represented as an index (integer) in a language vocabulary\n",
    "* The string representation of a word from the input language can be obtained from index `i` with `dataset.input_lang.index2word[i]`\n",
    "* Similarly for the output language `dataset.output_lang.index2word[j]`\n",
    "\n",
    " Let us look at samples from that dataset."
   ]
  },
  {
   "cell_type": "code",
   "execution_count": 9,
   "metadata": {
    "deletable": false,
    "editable": false,
    "nbgrader": {
     "cell_type": "code",
     "checksum": "9fad6e7ba94d6d6d74b11de25164b21a",
     "grade": false,
     "grade_id": "cell-2e435bbbefff50b5",
     "locked": true,
     "schema_version": 3,
     "solution": false
    }
   },
   "outputs": [
    {
     "name": "stdout",
     "output_type": "stream",
     "text": [
      "Input sentence: \"tu plaisantes ! EOS\"\n",
      "Sentence as tensor of word indices:\n",
      "tensor([[211],\n",
      "        [865],\n",
      "        [ 17],\n",
      "        [  1]])\n",
      "\n",
      "Output sentence: \"you re joking ! EOS\"\n",
      "Sentence as tensor of word indices:\n",
      "tensor([[130],\n",
      "        [ 78],\n",
      "        [104],\n",
      "        [  9],\n",
      "        [  1]])\n"
     ]
    }
   ],
   "source": [
    "input_sentence, output_sentence = trainset[np.random.choice(len(trainset))]\n",
    "print('Input sentence: \"%s\"' % ' '.join(trainset.input_lang.index2word[i.item()] for i in input_sentence))\n",
    "print('Sentence as tensor of word indices:')\n",
    "print(input_sentence)\n",
    "\n",
    "print('\\nOutput sentence: \"%s\"' % ' '.join(trainset.output_lang.index2word[i.item()] for i in output_sentence))\n",
    "print('Sentence as tensor of word indices:')\n",
    "print(output_sentence)"
   ]
  },
  {
   "cell_type": "code",
   "execution_count": 10,
   "metadata": {},
   "outputs": [
    {
     "name": "stdout",
     "output_type": "stream",
     "text": [
      "Number of input-output pairs in the training set:  8682\n"
     ]
    }
   ],
   "source": [
    "print('Number of input-output pairs in the training set: ', len(trainset))"
   ]
  },
  {
   "cell_type": "markdown",
   "metadata": {
    "deletable": false,
    "editable": false,
    "nbgrader": {
     "cell_type": "markdown",
     "checksum": "39f417fe0474640245b10bf52a24bf50",
     "grade": false,
     "grade_id": "cell-9c08aee8bc963ee0",
     "locked": true,
     "schema_version": 3,
     "solution": false
    }
   },
   "source": [
    "## Sequence-to-sequence model for machine translation\n",
    "\n",
    "In this exercise, we are going to build a machine translation system which transforms a sentence in one language into a sentence in another one. The computational graph of the translation model is shown below:\n",
    "\n",
    "<img src=\"seq2seq.png\" width=900 style=\"float: left;\">"
   ]
  },
  {
   "cell_type": "markdown",
   "metadata": {
    "deletable": false,
    "editable": false,
    "nbgrader": {
     "cell_type": "markdown",
     "checksum": "03f371a827ff4912e180470d7d561f84",
     "grade": false,
     "grade_id": "cell-729c83e14264895f",
     "locked": true,
     "schema_version": 3,
     "solution": false
    }
   },
   "source": [
    "We are going to use a simplified model without the dotted connections."
   ]
  },
  {
   "cell_type": "markdown",
   "metadata": {
    "deletable": false,
    "editable": false,
    "nbgrader": {
     "cell_type": "markdown",
     "checksum": "162a59b494b71d0a883f32556b82f728",
     "grade": false,
     "grade_id": "cell-ac0e967c23b19a55",
     "locked": true,
     "schema_version": 3,
     "solution": false
    }
   },
   "source": [
    "## Encoder\n",
    "\n",
    "The encoder encodes an input sequence $(x_1, x_2, ..., x_T)$ into a single vector $h_T$ using the following recursion:\n",
    "$$\n",
    "  h_{t} = f(h_{t-1}, x_t) \\qquad t = 1, \\ldots, T\n",
    "$$\n",
    "where:\n",
    "* intial state $h_0$ is often chosen arbitrarily (we choose it to be zero)\n",
    "* function $f$ is defined by the type of the RNN cell (in our experiments, we will use [GRU](https://pytorch.org/docs/stable/nn.html#torch.nn.GRU))\n",
    "* $x_t$ is a vector that represents the $t$-th word in the input sentence.\n",
    "\n",
    "A common practice in natural language processing is to _learn_ the word representations $x_t$ (instead of, for example, using one-hot coded vectors). In PyTorch, this is supported by class [Embedding](https://pytorch.org/docs/stable/nn.html#torch.nn.Embedding) which we are going to use."
   ]
  },
  {
   "cell_type": "markdown",
   "metadata": {
    "deletable": false,
    "editable": false,
    "nbgrader": {
     "cell_type": "markdown",
     "checksum": "2d2e4f0851d58835e743d2c3e49bdd4a",
     "grade": false,
     "grade_id": "cell-b1ea51a1e2b62f87",
     "locked": true,
     "schema_version": 3,
     "solution": false
    }
   },
   "source": [
    "The computational graph of the encoder is shown below:\n",
    "\n",
    "<img src=\"seq2seq_encoder.png\" width=500 style=\"float: left;\">"
   ]
  },
  {
   "cell_type": "markdown",
   "metadata": {
    "deletable": false,
    "editable": false,
    "nbgrader": {
     "cell_type": "markdown",
     "checksum": "fb2df031b89781c33799aae9f042d369",
     "grade": false,
     "grade_id": "cell-1f43b6294c6c0dee",
     "locked": true,
     "schema_version": 3,
     "solution": false
    }
   },
   "source": [
    "Let us implement the encoder whose `forward` function can processes _one input sequence at a time_.\n",
    "\n",
    "Your task is to implement the `forward` function which should:\n",
    "* embed the words in the input sequence (convert words' indexes into vectors using `self.embedding`)\n",
    "* perform GRU computations by feeding the embedded words and the given state of the GRU cell (`hidden`)"
   ]
  },
  {
   "cell_type": "code",
   "execution_count": 11,
   "metadata": {
    "deletable": false,
    "nbgrader": {
     "cell_type": "code",
     "checksum": "d78ebce4d6a2ae08f4f9a35f9bc2562c",
     "grade": false,
     "grade_id": "cell-0dcf2ba41c33535f",
     "locked": false,
     "schema_version": 3,
     "solution": true
    }
   },
   "outputs": [],
   "source": [
    "class Encoder(nn.Module):\n",
    "    def __init__(self, dictionary_size, hidden_size):\n",
    "        \"\"\"\n",
    "        Args:\n",
    "          dictionary_size (int): Size of dictionary in the source language.\n",
    "          hidden_size (int): Size of the hidden state.\n",
    "        \"\"\"\n",
    "        super(Encoder, self).__init__()\n",
    "        self.hidden_size = hidden_size\n",
    "        self.embedding = nn.Embedding(dictionary_size, hidden_size)\n",
    "        self.gru = nn.GRU(input_size=hidden_size, hidden_size=hidden_size)\n",
    "\n",
    "    def forward(self, input_seq, hidden):\n",
    "        \"\"\"\n",
    "        Args:\n",
    "          input_seq (tensor):  Tensor of words (word indices) of the input sentence. The shape is\n",
    "                               [seq_length, batch_size] with batch_size = 1.\n",
    "          hidden (tensor):    The state of the GRU (shape [1, batch_size, hidden_size] with batch_size=1).\n",
    "\n",
    "        Returns:\n",
    "          output (tensor): Output of the GRU (shape [seq_length, 1, hidden_size]).\n",
    "          hidden (tensor): New state of the GRU (shape [1, batch_size, hidden_size] with batch_size=1).\n",
    "        \"\"\"\n",
    "        batch_size = input_seq.size(1)\n",
    "        assert batch_size == 1, \"Encoder can process only one sequence at a time.\"\n",
    "        # YOUR CODE HERE\n",
    "        embedded = self.embedding(input_seq)\n",
    "        outputs = embedded\n",
    "        outputs, hidden = self.gru(outputs, hidden)\n",
    "        \n",
    "        #raise NotImplementedError()\n",
    "        return outputs, hidden\n",
    "\n",
    "    def init_hidden(self):\n",
    "        return torch.zeros(1, 1, self.hidden_size, device=device)"
   ]
  },
  {
   "cell_type": "code",
   "execution_count": 12,
   "metadata": {
    "deletable": false,
    "editable": false,
    "nbgrader": {
     "cell_type": "code",
     "checksum": "91b5cc216c8d1b5b50046123bdc24e62",
     "grade": true,
     "grade_id": "encoder",
     "locked": true,
     "points": 1,
     "schema_version": 3,
     "solution": false
    }
   },
   "outputs": [
    {
     "name": "stdout",
     "output_type": "stream",
     "text": [
      "The shapes seem to be ok.\n"
     ]
    }
   ],
   "source": [
    "# Let's test your code\n",
    "hidden_size = 20\n",
    "test_encoder = Encoder(dictionary_size=10, hidden_size=hidden_size).to(device)\n",
    "\n",
    "hidden = test_encoder.init_hidden()\n",
    "input_seq = torch.tensor([1, 2, 3, 4], device=device).view(4, 1)  # reshape to (seq_length, 1)\n",
    "outputs, hidden = test_encoder.forward(input_seq, hidden)\n",
    "assert outputs.shape == torch.Size([4, 1, hidden_size]), \\\n",
    "    \"Bad shape of outputs: outputs.shape={}, expected={}\".format(outputs.shape, torch.Size([4, 1, hidden_size]))\n",
    "assert hidden.shape == torch.Size([1, 1, hidden_size]), \\\n",
    "    \"Bad shape of outputs: hidden.shape={}, expected={}\".format(hidden.shape, torch.Size([1, 1, hidden_size]))\n",
    "\n",
    "print('The shapes seem to be ok.')"
   ]
  },
  {
   "cell_type": "markdown",
   "metadata": {
    "deletable": false,
    "editable": false,
    "nbgrader": {
     "cell_type": "markdown",
     "checksum": "9161562834fd4661f93277790042b9b1",
     "grade": false,
     "grade_id": "cell-628fbbf86c3ec3b4",
     "locked": true,
     "schema_version": 3,
     "solution": false
    }
   },
   "source": [
    "## Decoder\n",
    "\n",
    "The decoder takes as input the representation computed by the encoder and transforms it into a sentence in the target language. The computational graph of the decoder is shown below:\n",
    "\n",
    "<img src=\"seq2seq_decoder.png\" width=500 align=\"top\">\n",
    "\n",
    "Notes:\n",
    "* $z_0$ is the output of the encoder, that is $z_0 = h_5$, thus `hidden_size` of the decoder should be the same as `hidden_size` of the encoder.\n",
    "* $y_{i}$ are the log-probabilities of the words in the output language, the dimensionality of $y_{i}$ is the size of the output (target) dictionary.\n",
    "* $z_{i}$ is mapped to $y_{i}$ using a linear layer followed by `F.log_softmax` (because we use `nn.NLLLoss` loss for training).\n",
    "* Each cell of the decoder is a GRU, it receives as inputs the previous state $z_{i-1}$ and relu of the **embedding** of the previous word. Thus, you need to embed the words of the output language as well. The previous word is taken as the word with the maximum log-probability."
   ]
  },
  {
   "cell_type": "markdown",
   "metadata": {
    "deletable": false,
    "editable": false,
    "nbgrader": {
     "cell_type": "markdown",
     "checksum": "acd90b49b6a65457c55ffdf22ee4825a",
     "grade": false,
     "grade_id": "cell-55727601ec7df18a",
     "locked": true,
     "schema_version": 3,
     "solution": false
    }
   },
   "source": [
    "Note that the decoder outputs a word at every step and the same word is used as the input to the recurrent unit at the next step. At the beginning of decoding, the previous word input is fed with a special word SOS which stands for \"start of a sentence\". During training, we know the target sentence for decoding, therefore we can feed the correct words $y_i$ as inputs to the recurrent unit.\n",
    "\n",
    "There is one thing that it is wise to take care of. When the target sentence is fed to the decoder during training, the decoder learns to generate only the next word (this scenario is called \"teacher forcing\" in the literature). In test time, the decoder works differently: It generates the whole sequence using its own predictions as inputs at each step. Therefore, it makes sense to train the decoder to produce full sentences. In order to do that, we will alternate between two modes during training:\n",
    "* \"teacher forcing\": the decoder is fed with the words in the target sequence\n",
    "* no \"teacher forcing\": the decoder generates the output sequence using its own predictions. We will limit the maximum length of generated sequences to `MAX_LENGTH`."
   ]
  },
  {
   "cell_type": "markdown",
   "metadata": {
    "deletable": false,
    "editable": false,
    "nbgrader": {
     "cell_type": "markdown",
     "checksum": "9a13b3f2c7cc163d0bae528745542821",
     "grade": false,
     "grade_id": "cell-fe46cc17f3da6d25",
     "locked": true,
     "schema_version": 3,
     "solution": false
    }
   },
   "source": [
    "In the code below, your task is to implement the decoder which has the structure shown in the figure above."
   ]
  },
  {
   "cell_type": "code",
   "execution_count": 13,
   "metadata": {
    "deletable": false,
    "nbgrader": {
     "cell_type": "code",
     "checksum": "5c26d8dc563732df510e530a3ff8d499",
     "grade": false,
     "grade_id": "cell-6c949ebc9aee9ce8",
     "locked": false,
     "schema_version": 3,
     "solution": true
    }
   },
   "outputs": [],
   "source": [
    "class Decoder(nn.Module):\n",
    "    def __init__(self, hidden_size, output_dictionary_size):\n",
    "        \"\"\"\n",
    "        Args:\n",
    "          hidden_size (int): Size of the hidden state.\n",
    "          output_dictionary_size (int): Size of dictionary in the target language.\n",
    "        \"\"\"\n",
    "        super(Decoder, self).__init__()\n",
    "        self.hidden_size = hidden_size\n",
    "\n",
    "        # YOUR CODE HERE\n",
    "        self.embedding = nn.Embedding(output_dictionary_size, hidden_size)\n",
    "        self.gru = nn.GRU(hidden_size, hidden_size)\n",
    "        self.out = nn.Linear(hidden_size, output_dictionary_size)\n",
    "        self.softmax = nn.LogSoftmax(dim=2)\n",
    "        \n",
    "        \n",
    "        #raise NotImplementedError()\n",
    "\n",
    "    def forward(self, hidden, target_seq=None, teacher_forcing=False):\n",
    "        \"\"\"\n",
    "        Args:\n",
    "          hidden (tensor):        The state of the GRU (shape [1, batch_size, hidden_size] with batch_size=1).\n",
    "          target_seq (tensor):    Tensor of words (word indices) of the target sentence. The shape is\n",
    "                                   [target_seq_length, batch_size] with batch_size=1. If None, the output sequence\n",
    "                                   is generated by feeding the decoder's outputs (teacher_forcing has to be False).\n",
    "          teacher_forcing (bool): Whether to use teacher forcing or not.\n",
    "\n",
    "        Returns:\n",
    "          outputs (tensor): Tensor of log-probabilities of words in the output language\n",
    "                             (shape [output_seq_length, batch_size, output_dictionary_size] with batch_size=1).\n",
    "          hidden (tensor):  New state of the GRU (shape [1, batch_size, hidden_size] with batch_size=1).\n",
    "        \"\"\"\n",
    "        if target_seq is None:\n",
    "            assert not teacher_forcing, 'Cannot use teacher forcing without a target sequence.'\n",
    "\n",
    "        prev_word = torch.tensor([SOS_token], device=device, dtype=torch.int64)\n",
    "        out_length = target_seq.size(0) if target_seq is not None else MAX_LENGTH\n",
    "        outputs = []  # Collect decoder outputs at different processing steps in this list\n",
    "        for t in range(out_length):\n",
    "            # YOUR CODE HERE\n",
    "            output = self.embedding(prev_word).view(1, 1, -1)\n",
    "            output = F.relu(output)\n",
    "            output, hidden = self.gru(output, hidden)\n",
    "            output = self.softmax(self.out(output))\n",
    "            outputs.append(output)\n",
    "            \n",
    "            #raise NotImplementedError()\n",
    "\n",
    "            if teacher_forcing:\n",
    "                # Feed the target as the next input\n",
    "                prev_word = target_seq[t]  # Teacher forcing\n",
    "            else:\n",
    "                # Use its own predictions as the next input\n",
    "                topv, topi = output[0, :].topk(1)\n",
    "                prev_word = topi.squeeze().detach()  # detach from history as input\n",
    "\n",
    "                if prev_word.item() == EOS_token:\n",
    "                    break\n",
    "\n",
    "        outputs = torch.cat(outputs, dim=0)  # [max_length, batch_size, output_dictionary_size]\n",
    "\n",
    "        return outputs, hidden\n",
    "\n",
    "    def init_hidden(self):\n",
    "        return torch.zeros(1, 1, self.hidden_size, device=device)"
   ]
  },
  {
   "cell_type": "code",
   "execution_count": 14,
   "metadata": {
    "deletable": false,
    "editable": false,
    "nbgrader": {
     "cell_type": "code",
     "checksum": "7d0e9b6fc7da4b43dc85f979d8312ddb",
     "grade": true,
     "grade_id": "decoder",
     "locked": true,
     "points": 2,
     "schema_version": 3,
     "solution": false
    }
   },
   "outputs": [
    {
     "name": "stdout",
     "output_type": "stream",
     "text": [
      "The shapes seem to be ok.\n"
     ]
    }
   ],
   "source": [
    "# Let's test the shapes\n",
    "hidden_size = 20\n",
    "output_dictionary_size = 10\n",
    "test_decoder = Decoder(hidden_size, output_dictionary_size).to(device)\n",
    "\n",
    "hidden = test_decoder.init_hidden()\n",
    "target_seq = torch.tensor([1, 2, 3, 4], device=device).view(4, 1)  # reshape to (seq_length, 1)\n",
    "\n",
    "outputs, hidden = test_decoder.forward(hidden, target_seq, teacher_forcing=False)\n",
    "assert outputs.size(0) <= 4, \"Too long output sequence: outputs.size(0)={}\".format(outputs.size(0))\n",
    "assert outputs.shape[1:] == torch.Size([1, output_dictionary_size]), \\\n",
    "    \"Bad shape of outputs: outputs.shape[1:]={}, expected={}\".format(outputs.shape[1:], torch.Size([1, output_dictionary_size]))\n",
    "assert hidden.shape == torch.Size([1, 1, hidden_size]), \\\n",
    "    \"Bad shape of hidden: hidden.shape={}, expected={}\".format(hidden.shape, torch.Size([1, 1, hidden_size]))\n",
    "\n",
    "outputs, hidden = test_decoder.forward(hidden, target_seq, teacher_forcing=True)\n",
    "assert outputs.shape == torch.Size([4, 1, output_dictionary_size]), \\\n",
    "    \"Bad shape of outputs: outputs.shape={}, expected={}\".format(outputs.shape, torch.Size([4, 1, output_dictionary_size]))\n",
    "assert hidden.shape == torch.Size([1, 1, hidden_size]), \\\n",
    "    \"Bad shape of hidden: hidden.shape={}, expected={}\".format(hidden.shape, torch.Size([1, 1, hidden_size]))\n",
    "\n",
    "# Generation mode\n",
    "outputs, hidden = test_decoder.forward(hidden, target_seq=None, teacher_forcing=False)\n",
    "assert outputs.shape[1:] == torch.Size([1, output_dictionary_size]), \\\n",
    "    \"Bad shape of outputs: outputs.shape[1:]={}, expected={}\".format(outputs.shape[1:], torch.Size([1, output_dictionary_size]))\n",
    "assert hidden.shape == torch.Size([1, 1, hidden_size]), \\\n",
    "    \"Bad shape of hidden: hidden.shape={}, expected={}\".format(hidden.shape, torch.Size([1, 1, hidden_size]))\n",
    "\n",
    "print('The shapes seem to be ok.')"
   ]
  },
  {
   "cell_type": "markdown",
   "metadata": {
    "deletable": false,
    "editable": false,
    "nbgrader": {
     "cell_type": "markdown",
     "checksum": "31dc90ab114bfdf0ca83e37d7f89213b",
     "grade": false,
     "grade_id": "cell-6b7d4217c687a659",
     "locked": true,
     "schema_version": 3,
     "solution": false
    }
   },
   "source": [
    "## Training a sequence-to-sequence model\n",
    "\n",
    "Now we are going to train the sequence-to-sequence model on the toy translation dataset."
   ]
  },
  {
   "cell_type": "code",
   "execution_count": 15,
   "metadata": {
    "deletable": false,
    "editable": false,
    "nbgrader": {
     "cell_type": "code",
     "checksum": "842e10bc47437104f00ae6358b0a353b",
     "grade": false,
     "grade_id": "cell-dabbdfdf8108cf41",
     "locked": true,
     "schema_version": 3,
     "solution": false
    }
   },
   "outputs": [],
   "source": [
    "# Create encoder and decoder\n",
    "hidden_size = 256\n",
    "encoder = Encoder(trainset.input_lang.n_words, hidden_size).to(device)\n",
    "decoder = Decoder(hidden_size, trainset.output_lang.n_words).to(device)"
   ]
  },
  {
   "cell_type": "code",
   "execution_count": 16,
   "metadata": {
    "deletable": false,
    "editable": false,
    "nbgrader": {
     "cell_type": "code",
     "checksum": "3158e3124959b9290f71026f485fc01f",
     "grade": false,
     "grade_id": "cell-a060ee7c89f279ce",
     "locked": true,
     "schema_version": 3,
     "solution": false
    }
   },
   "outputs": [],
   "source": [
    "teacher_forcing_ratio = 0.5\n",
    "\n",
    "encoder_optimizer = optim.SGD(encoder.parameters(), lr=0.01)\n",
    "decoder_optimizer = optim.SGD(decoder.parameters(), lr=0.01)\n",
    "criterion = nn.NLLLoss(reduction='sum')"
   ]
  },
  {
   "cell_type": "code",
   "execution_count": 17,
   "metadata": {
    "deletable": false,
    "editable": false,
    "nbgrader": {
     "cell_type": "code",
     "checksum": "9c97f8706c7a6f1b736a5326685edea0",
     "grade": false,
     "grade_id": "cell-31d7cbf0e0f65325",
     "locked": true,
     "schema_version": 3,
     "solution": false
    }
   },
   "outputs": [],
   "source": [
    "trainloader = torch.utils.data.DataLoader(trainset, batch_size=1, shuffle=True)"
   ]
  },
  {
   "cell_type": "code",
   "execution_count": 18,
   "metadata": {},
   "outputs": [],
   "source": [
    "n_epochs = 8"
   ]
  },
  {
   "cell_type": "markdown",
   "metadata": {
    "deletable": false,
    "editable": false,
    "nbgrader": {
     "cell_type": "markdown",
     "checksum": "6e5c1af6a27ba218e0b3f5fe7ebf85e6",
     "grade": false,
     "grade_id": "cell-a37a0622e06557c5",
     "locked": true,
     "schema_version": 3,
     "solution": false
    }
   },
   "source": [
    "In the training loop below, we are going to process one pair of sequences at a time. Your task is to implement the input sequence encoding and decoding. Toggle `teacher_forcing` on and off during decoding according to the `teacher_forcing_ratio` specified above.\n",
    "\n",
    "The loss computations are implemented already."
   ]
  },
  {
   "cell_type": "code",
   "execution_count": 19,
   "metadata": {
    "deletable": false,
    "nbgrader": {
     "cell_type": "code",
     "checksum": "2bc30cd81c998085118fd489d8424f0a",
     "grade": false,
     "grade_id": "cell-4d30459b69a5b895",
     "locked": false,
     "schema_version": 3,
     "solution": true
    }
   },
   "outputs": [
    {
     "name": "stdout",
     "output_type": "stream",
     "text": [
      "[1,   100] loss: 4.5098\n",
      "[1,   200] loss: 3.6784\n",
      "[1,   300] loss: 3.4914\n",
      "[1,   400] loss: 3.5997\n",
      "[1,   500] loss: 3.4709\n",
      "[1,   600] loss: 3.4644\n",
      "[1,   700] loss: 3.3456\n",
      "[1,   800] loss: 3.4351\n",
      "[1,   900] loss: 3.2946\n",
      "[1,  1000] loss: 3.2668\n",
      "[1,  1100] loss: 3.3287\n",
      "[1,  1200] loss: 3.2492\n",
      "[1,  1300] loss: 3.0833\n",
      "[1,  1400] loss: 3.1505\n",
      "[1,  1500] loss: 3.1868\n",
      "[1,  1600] loss: 3.1715\n",
      "[1,  1700] loss: 3.0463\n",
      "[1,  1800] loss: 3.0689\n",
      "[1,  1900] loss: 3.0825\n",
      "[1,  2000] loss: 2.9212\n",
      "[1,  2100] loss: 2.7556\n",
      "[1,  2200] loss: 2.9406\n",
      "[1,  2300] loss: 2.8771\n",
      "[1,  2400] loss: 3.0220\n",
      "[1,  2500] loss: 2.8397\n",
      "[1,  2600] loss: 2.8674\n",
      "[1,  2700] loss: 2.7742\n",
      "[1,  2800] loss: 2.8662\n",
      "[1,  2900] loss: 2.9501\n",
      "[1,  3000] loss: 2.6736\n",
      "[1,  3100] loss: 2.7506\n",
      "[1,  3200] loss: 2.7806\n",
      "[1,  3300] loss: 2.8213\n",
      "[1,  3400] loss: 2.7747\n",
      "[1,  3500] loss: 2.7494\n",
      "[1,  3600] loss: 2.6520\n",
      "[1,  3700] loss: 2.7659\n",
      "[1,  3800] loss: 2.6459\n",
      "[1,  3900] loss: 2.8153\n",
      "[1,  4000] loss: 2.7589\n",
      "[1,  4100] loss: 2.7266\n",
      "[1,  4200] loss: 2.7401\n",
      "[1,  4300] loss: 2.8283\n",
      "[1,  4400] loss: 2.6775\n",
      "[1,  4500] loss: 2.6720\n",
      "[1,  4600] loss: 2.7587\n",
      "[1,  4700] loss: 2.5217\n",
      "[1,  4800] loss: 2.6599\n",
      "[1,  4900] loss: 2.5866\n",
      "[1,  5000] loss: 2.5628\n",
      "[1,  5100] loss: 2.4571\n",
      "[1,  5200] loss: 2.4237\n",
      "[1,  5300] loss: 2.6224\n",
      "[1,  5400] loss: 2.7518\n",
      "[1,  5500] loss: 2.6129\n",
      "[1,  5600] loss: 2.4420\n",
      "[1,  5700] loss: 2.6885\n",
      "[1,  5800] loss: 2.5119\n",
      "[1,  5900] loss: 2.3271\n",
      "[1,  6000] loss: 2.7243\n",
      "[1,  6100] loss: 2.6397\n",
      "[1,  6200] loss: 2.6223\n",
      "[1,  6300] loss: 2.5657\n",
      "[1,  6400] loss: 2.4863\n",
      "[1,  6500] loss: 2.5292\n",
      "[1,  6600] loss: 2.5089\n",
      "[1,  6700] loss: 2.5007\n",
      "[1,  6800] loss: 2.3862\n",
      "[1,  6900] loss: 2.3681\n",
      "[1,  7000] loss: 2.5822\n",
      "[1,  7100] loss: 2.3831\n",
      "[1,  7200] loss: 2.4056\n",
      "[1,  7300] loss: 2.6920\n",
      "[1,  7400] loss: 2.5645\n",
      "[1,  7500] loss: 2.3553\n",
      "[1,  7600] loss: 2.2403\n",
      "[1,  7700] loss: 2.5444\n",
      "[1,  7800] loss: 2.6065\n",
      "[1,  7900] loss: 2.5113\n",
      "[1,  8000] loss: 2.2558\n",
      "[1,  8100] loss: 2.4725\n",
      "[1,  8200] loss: 2.3952\n",
      "[1,  8300] loss: 2.5779\n",
      "[1,  8400] loss: 2.3509\n",
      "[1,  8500] loss: 2.4416\n",
      "[1,  8600] loss: 2.3018\n",
      "[2,   100] loss: 2.3564\n",
      "[2,   200] loss: 2.2030\n",
      "[2,   300] loss: 2.4089\n",
      "[2,   400] loss: 2.1939\n",
      "[2,   500] loss: 2.2278\n",
      "[2,   600] loss: 2.2170\n",
      "[2,   700] loss: 2.2222\n",
      "[2,   800] loss: 2.0772\n",
      "[2,   900] loss: 2.1437\n",
      "[2,  1000] loss: 2.2087\n",
      "[2,  1100] loss: 2.3058\n",
      "[2,  1200] loss: 2.3201\n",
      "[2,  1300] loss: 2.0826\n",
      "[2,  1400] loss: 2.3317\n",
      "[2,  1500] loss: 2.0530\n",
      "[2,  1600] loss: 2.1267\n",
      "[2,  1700] loss: 2.1285\n",
      "[2,  1800] loss: 2.2440\n",
      "[2,  1900] loss: 2.1878\n",
      "[2,  2000] loss: 2.1695\n",
      "[2,  2100] loss: 2.3488\n",
      "[2,  2200] loss: 2.2706\n",
      "[2,  2300] loss: 2.0979\n",
      "[2,  2400] loss: 2.2589\n",
      "[2,  2500] loss: 2.2019\n",
      "[2,  2600] loss: 2.2111\n",
      "[2,  2700] loss: 1.9485\n",
      "[2,  2800] loss: 2.3817\n",
      "[2,  2900] loss: 1.9546\n",
      "[2,  3000] loss: 2.2341\n",
      "[2,  3100] loss: 2.2073\n",
      "[2,  3200] loss: 2.1393\n",
      "[2,  3300] loss: 2.2148\n",
      "[2,  3400] loss: 1.9382\n",
      "[2,  3500] loss: 1.9807\n",
      "[2,  3600] loss: 2.1799\n",
      "[2,  3700] loss: 2.2100\n",
      "[2,  3800] loss: 2.1274\n",
      "[2,  3900] loss: 2.0780\n",
      "[2,  4000] loss: 2.1940\n",
      "[2,  4100] loss: 2.0847\n",
      "[2,  4200] loss: 2.2531\n",
      "[2,  4300] loss: 2.1121\n",
      "[2,  4400] loss: 2.1586\n",
      "[2,  4500] loss: 2.2078\n",
      "[2,  4600] loss: 2.0788\n",
      "[2,  4700] loss: 2.0652\n",
      "[2,  4800] loss: 2.1492\n",
      "[2,  4900] loss: 1.9542\n",
      "[2,  5000] loss: 2.1791\n",
      "[2,  5100] loss: 2.2657\n",
      "[2,  5200] loss: 1.9651\n",
      "[2,  5300] loss: 2.0345\n",
      "[2,  5400] loss: 2.0389\n",
      "[2,  5500] loss: 1.9370\n",
      "[2,  5600] loss: 1.9292\n",
      "[2,  5700] loss: 1.8213\n",
      "[2,  5800] loss: 2.0770\n",
      "[2,  5900] loss: 2.0913\n",
      "[2,  6000] loss: 2.2674\n",
      "[2,  6100] loss: 1.9561\n",
      "[2,  6200] loss: 2.2242\n",
      "[2,  6300] loss: 2.0824\n",
      "[2,  6400] loss: 1.9331\n",
      "[2,  6500] loss: 2.1710\n",
      "[2,  6600] loss: 2.0864\n",
      "[2,  6700] loss: 2.0547\n",
      "[2,  6800] loss: 2.1141\n",
      "[2,  6900] loss: 2.0099\n",
      "[2,  7000] loss: 1.8683\n",
      "[2,  7100] loss: 2.0395\n",
      "[2,  7200] loss: 2.1717\n",
      "[2,  7300] loss: 1.9984\n",
      "[2,  7400] loss: 1.9464\n",
      "[2,  7500] loss: 2.0247\n",
      "[2,  7600] loss: 1.8506\n",
      "[2,  7700] loss: 1.9696\n",
      "[2,  7800] loss: 1.9356\n",
      "[2,  7900] loss: 1.9619\n",
      "[2,  8000] loss: 2.1387\n",
      "[2,  8100] loss: 2.0452\n",
      "[2,  8200] loss: 2.1683\n",
      "[2,  8300] loss: 2.0690\n",
      "[2,  8400] loss: 1.9263\n",
      "[2,  8500] loss: 1.9184\n",
      "[2,  8600] loss: 1.9742\n",
      "[3,   100] loss: 1.7621\n",
      "[3,   200] loss: 1.7337\n",
      "[3,   300] loss: 1.6792\n",
      "[3,   400] loss: 1.8568\n",
      "[3,   500] loss: 1.6697\n",
      "[3,   600] loss: 1.7927\n",
      "[3,   700] loss: 1.7535\n",
      "[3,   800] loss: 1.6926\n",
      "[3,   900] loss: 1.5765\n",
      "[3,  1000] loss: 1.6406\n",
      "[3,  1100] loss: 1.6130\n",
      "[3,  1200] loss: 1.6927\n",
      "[3,  1300] loss: 1.7024\n",
      "[3,  1400] loss: 1.7669\n",
      "[3,  1500] loss: 1.6511\n",
      "[3,  1600] loss: 1.7920\n",
      "[3,  1700] loss: 1.8851\n",
      "[3,  1800] loss: 1.6676\n",
      "[3,  1900] loss: 1.8224\n",
      "[3,  2000] loss: 1.7972\n",
      "[3,  2100] loss: 1.6137\n",
      "[3,  2200] loss: 1.7307\n",
      "[3,  2300] loss: 1.5972\n",
      "[3,  2400] loss: 1.6810\n",
      "[3,  2500] loss: 1.8955\n",
      "[3,  2600] loss: 1.8728\n",
      "[3,  2700] loss: 1.8312\n",
      "[3,  2800] loss: 1.5024\n",
      "[3,  2900] loss: 1.8383\n",
      "[3,  3000] loss: 1.8992\n",
      "[3,  3100] loss: 1.6552\n",
      "[3,  3200] loss: 1.6271\n",
      "[3,  3300] loss: 1.7781\n",
      "[3,  3400] loss: 1.7379\n",
      "[3,  3500] loss: 1.5981\n",
      "[3,  3600] loss: 1.7676\n",
      "[3,  3700] loss: 1.7873\n",
      "[3,  3800] loss: 1.6352\n",
      "[3,  3900] loss: 1.8539\n",
      "[3,  4000] loss: 1.6854\n",
      "[3,  4100] loss: 1.7220\n",
      "[3,  4200] loss: 1.7167\n",
      "[3,  4300] loss: 1.5555\n",
      "[3,  4400] loss: 1.5947\n",
      "[3,  4500] loss: 1.7488\n",
      "[3,  4600] loss: 1.5586\n",
      "[3,  4700] loss: 1.7319\n",
      "[3,  4800] loss: 1.7379\n",
      "[3,  4900] loss: 1.6288\n",
      "[3,  5000] loss: 1.7584\n",
      "[3,  5100] loss: 1.8089\n",
      "[3,  5200] loss: 1.7206\n",
      "[3,  5300] loss: 1.6667\n",
      "[3,  5400] loss: 1.7003\n",
      "[3,  5500] loss: 1.8188\n",
      "[3,  5600] loss: 1.6876\n",
      "[3,  5700] loss: 1.4998\n",
      "[3,  5800] loss: 1.5539\n",
      "[3,  5900] loss: 1.7298\n",
      "[3,  6000] loss: 1.7211\n",
      "[3,  6100] loss: 1.7765\n",
      "[3,  6200] loss: 1.8638\n",
      "[3,  6300] loss: 1.6551\n",
      "[3,  6400] loss: 1.5742\n",
      "[3,  6500] loss: 1.8581\n",
      "[3,  6600] loss: 1.7205\n",
      "[3,  6700] loss: 1.4953\n",
      "[3,  6800] loss: 1.6613\n",
      "[3,  6900] loss: 1.4691\n",
      "[3,  7000] loss: 1.5687\n",
      "[3,  7100] loss: 1.6686\n",
      "[3,  7200] loss: 1.7034\n",
      "[3,  7300] loss: 1.5583\n",
      "[3,  7400] loss: 1.5378\n",
      "[3,  7500] loss: 1.6565\n",
      "[3,  7600] loss: 1.5327\n",
      "[3,  7700] loss: 1.7060\n",
      "[3,  7800] loss: 1.4709\n",
      "[3,  7900] loss: 1.8615\n",
      "[3,  8000] loss: 1.6042\n",
      "[3,  8100] loss: 1.7672\n",
      "[3,  8200] loss: 1.7011\n",
      "[3,  8300] loss: 1.6829\n",
      "[3,  8400] loss: 1.6509\n",
      "[3,  8500] loss: 1.6830\n",
      "[3,  8600] loss: 1.3553\n",
      "[4,   100] loss: 1.2560\n",
      "[4,   200] loss: 1.3667\n",
      "[4,   300] loss: 1.2230\n",
      "[4,   400] loss: 1.2638\n",
      "[4,   500] loss: 1.2999\n",
      "[4,   600] loss: 1.4066\n",
      "[4,   700] loss: 1.3020\n",
      "[4,   800] loss: 1.3455\n",
      "[4,   900] loss: 1.4340\n",
      "[4,  1000] loss: 1.3226\n",
      "[4,  1100] loss: 1.3882\n",
      "[4,  1200] loss: 1.4245\n",
      "[4,  1300] loss: 1.3040\n",
      "[4,  1400] loss: 1.4865\n",
      "[4,  1500] loss: 1.4713\n",
      "[4,  1600] loss: 1.3585\n",
      "[4,  1700] loss: 1.1905\n",
      "[4,  1800] loss: 1.5160\n",
      "[4,  1900] loss: 1.3647\n",
      "[4,  2000] loss: 1.4927\n",
      "[4,  2100] loss: 1.3334\n",
      "[4,  2200] loss: 1.3566\n",
      "[4,  2300] loss: 1.2800\n",
      "[4,  2400] loss: 1.4038\n",
      "[4,  2500] loss: 1.2955\n",
      "[4,  2600] loss: 1.4438\n",
      "[4,  2700] loss: 1.3939\n",
      "[4,  2800] loss: 1.2793\n",
      "[4,  2900] loss: 1.4140\n",
      "[4,  3000] loss: 1.4701\n",
      "[4,  3100] loss: 1.2620\n",
      "[4,  3200] loss: 1.4273\n",
      "[4,  3300] loss: 1.2919\n",
      "[4,  3400] loss: 1.6402\n",
      "[4,  3500] loss: 1.5975\n",
      "[4,  3600] loss: 1.4074\n",
      "[4,  3700] loss: 1.2969\n",
      "[4,  3800] loss: 1.3156\n",
      "[4,  3900] loss: 1.4318\n",
      "[4,  4000] loss: 1.4062\n",
      "[4,  4100] loss: 1.3596\n",
      "[4,  4200] loss: 1.4462\n",
      "[4,  4300] loss: 1.3708\n",
      "[4,  4400] loss: 1.4442\n",
      "[4,  4500] loss: 1.1560\n",
      "[4,  4600] loss: 1.4057\n",
      "[4,  4700] loss: 1.3784\n",
      "[4,  4800] loss: 1.4232\n",
      "[4,  4900] loss: 1.4021\n",
      "[4,  5000] loss: 1.2820\n",
      "[4,  5100] loss: 1.3613\n",
      "[4,  5200] loss: 1.2445\n",
      "[4,  5300] loss: 1.5696\n",
      "[4,  5400] loss: 1.4746\n",
      "[4,  5500] loss: 1.3199\n",
      "[4,  5600] loss: 1.3146\n",
      "[4,  5700] loss: 1.4557\n",
      "[4,  5800] loss: 1.3831\n",
      "[4,  5900] loss: 1.2797\n",
      "[4,  6000] loss: 1.3145\n",
      "[4,  6100] loss: 1.1711\n",
      "[4,  6200] loss: 1.2185\n",
      "[4,  6300] loss: 1.3026\n",
      "[4,  6400] loss: 1.4911\n",
      "[4,  6500] loss: 1.3340\n",
      "[4,  6600] loss: 1.5465\n",
      "[4,  6700] loss: 1.4591\n",
      "[4,  6800] loss: 1.4563\n",
      "[4,  6900] loss: 1.3578\n",
      "[4,  7000] loss: 1.3475\n",
      "[4,  7100] loss: 1.3794\n",
      "[4,  7200] loss: 1.3909\n",
      "[4,  7300] loss: 1.2669\n",
      "[4,  7400] loss: 1.4385\n",
      "[4,  7500] loss: 1.3477\n",
      "[4,  7600] loss: 1.4354\n",
      "[4,  7700] loss: 1.3569\n",
      "[4,  7800] loss: 1.4213\n",
      "[4,  7900] loss: 1.4065\n",
      "[4,  8000] loss: 1.4189\n",
      "[4,  8100] loss: 1.3858\n",
      "[4,  8200] loss: 1.4118\n",
      "[4,  8300] loss: 1.4247\n",
      "[4,  8400] loss: 1.2786\n"
     ]
    },
    {
     "name": "stdout",
     "output_type": "stream",
     "text": [
      "[4,  8500] loss: 1.3138\n",
      "[4,  8600] loss: 1.3214\n",
      "[5,   100] loss: 1.1978\n",
      "[5,   200] loss: 1.1122\n",
      "[5,   300] loss: 1.1741\n",
      "[5,   400] loss: 1.0799\n",
      "[5,   500] loss: 1.2172\n",
      "[5,   600] loss: 1.0610\n",
      "[5,   700] loss: 1.0268\n",
      "[5,   800] loss: 1.1864\n",
      "[5,   900] loss: 1.1357\n",
      "[5,  1000] loss: 1.1736\n",
      "[5,  1100] loss: 1.0554\n",
      "[5,  1200] loss: 1.0194\n",
      "[5,  1300] loss: 1.0187\n",
      "[5,  1400] loss: 1.0415\n",
      "[5,  1500] loss: 1.1086\n",
      "[5,  1600] loss: 0.9830\n",
      "[5,  1700] loss: 0.9942\n",
      "[5,  1800] loss: 1.2107\n",
      "[5,  1900] loss: 1.1631\n",
      "[5,  2000] loss: 1.0257\n",
      "[5,  2100] loss: 0.9668\n",
      "[5,  2200] loss: 1.0802\n",
      "[5,  2300] loss: 1.0877\n",
      "[5,  2400] loss: 1.1022\n",
      "[5,  2500] loss: 1.2330\n",
      "[5,  2600] loss: 1.0788\n",
      "[5,  2700] loss: 1.0667\n",
      "[5,  2800] loss: 1.0562\n",
      "[5,  2900] loss: 1.1208\n",
      "[5,  3000] loss: 1.1070\n",
      "[5,  3100] loss: 1.0401\n",
      "[5,  3200] loss: 1.1420\n",
      "[5,  3300] loss: 1.0742\n",
      "[5,  3400] loss: 1.1736\n",
      "[5,  3500] loss: 1.0706\n",
      "[5,  3600] loss: 1.3014\n",
      "[5,  3700] loss: 1.1514\n",
      "[5,  3800] loss: 1.0999\n",
      "[5,  3900] loss: 1.1929\n",
      "[5,  4000] loss: 1.1280\n",
      "[5,  4100] loss: 1.2043\n",
      "[5,  4200] loss: 0.9103\n",
      "[5,  4300] loss: 1.1313\n",
      "[5,  4400] loss: 1.0931\n",
      "[5,  4500] loss: 0.9321\n",
      "[5,  4600] loss: 1.1313\n",
      "[5,  4700] loss: 1.2114\n",
      "[5,  4800] loss: 1.0792\n",
      "[5,  4900] loss: 1.1498\n",
      "[5,  5000] loss: 1.1745\n",
      "[5,  5100] loss: 1.0186\n",
      "[5,  5200] loss: 1.1924\n",
      "[5,  5300] loss: 0.9990\n",
      "[5,  5400] loss: 1.1035\n",
      "[5,  5500] loss: 1.0888\n",
      "[5,  5600] loss: 1.1760\n",
      "[5,  5700] loss: 1.0267\n",
      "[5,  5800] loss: 1.1018\n",
      "[5,  5900] loss: 1.1201\n",
      "[5,  6000] loss: 0.9867\n",
      "[5,  6100] loss: 1.2648\n",
      "[5,  6200] loss: 1.1458\n",
      "[5,  6300] loss: 1.2189\n",
      "[5,  6400] loss: 1.0104\n",
      "[5,  6500] loss: 1.3049\n",
      "[5,  6600] loss: 1.0160\n",
      "[5,  6700] loss: 1.0030\n",
      "[5,  6800] loss: 1.2274\n",
      "[5,  6900] loss: 1.1503\n",
      "[5,  7000] loss: 1.2173\n",
      "[5,  7100] loss: 1.0849\n",
      "[5,  7200] loss: 0.9786\n",
      "[5,  7300] loss: 1.0319\n",
      "[5,  7400] loss: 1.2230\n",
      "[5,  7500] loss: 1.0133\n",
      "[5,  7600] loss: 1.0704\n",
      "[5,  7700] loss: 1.0138\n",
      "[5,  7800] loss: 1.0974\n",
      "[5,  7900] loss: 0.9292\n",
      "[5,  8000] loss: 1.0469\n",
      "[5,  8100] loss: 1.1198\n",
      "[5,  8200] loss: 1.0356\n",
      "[5,  8300] loss: 1.0072\n",
      "[5,  8400] loss: 1.0399\n",
      "[5,  8500] loss: 0.9841\n",
      "[5,  8600] loss: 1.0165\n",
      "[6,   100] loss: 0.8414\n",
      "[6,   200] loss: 0.8425\n",
      "[6,   300] loss: 0.7137\n",
      "[6,   400] loss: 0.8126\n",
      "[6,   500] loss: 0.7308\n",
      "[6,   600] loss: 0.8772\n",
      "[6,   700] loss: 0.8972\n",
      "[6,   800] loss: 0.8072\n",
      "[6,   900] loss: 0.7678\n",
      "[6,  1000] loss: 0.8601\n",
      "[6,  1100] loss: 0.8705\n",
      "[6,  1200] loss: 0.9417\n",
      "[6,  1300] loss: 0.8542\n",
      "[6,  1400] loss: 0.7206\n",
      "[6,  1500] loss: 0.9139\n",
      "[6,  1600] loss: 0.8012\n",
      "[6,  1700] loss: 0.9688\n",
      "[6,  1800] loss: 0.7667\n",
      "[6,  1900] loss: 1.0226\n",
      "[6,  2000] loss: 0.7247\n",
      "[6,  2100] loss: 0.8700\n",
      "[6,  2200] loss: 0.9673\n",
      "[6,  2300] loss: 0.8318\n",
      "[6,  2400] loss: 0.7735\n",
      "[6,  2500] loss: 0.9307\n",
      "[6,  2600] loss: 0.8845\n",
      "[6,  2700] loss: 0.9205\n",
      "[6,  2800] loss: 0.8039\n",
      "[6,  2900] loss: 0.9680\n",
      "[6,  3000] loss: 0.7721\n",
      "[6,  3100] loss: 0.7985\n",
      "[6,  3200] loss: 0.7452\n",
      "[6,  3300] loss: 0.8719\n",
      "[6,  3400] loss: 0.8600\n",
      "[6,  3500] loss: 0.9086\n",
      "[6,  3600] loss: 0.8500\n",
      "[6,  3700] loss: 0.8614\n",
      "[6,  3800] loss: 0.8457\n",
      "[6,  3900] loss: 0.7887\n",
      "[6,  4000] loss: 0.7509\n",
      "[6,  4100] loss: 0.9106\n",
      "[6,  4200] loss: 0.9303\n",
      "[6,  4300] loss: 0.9990\n",
      "[6,  4400] loss: 0.9148\n",
      "[6,  4500] loss: 0.9268\n",
      "[6,  4600] loss: 0.8184\n",
      "[6,  4700] loss: 0.9104\n",
      "[6,  4800] loss: 0.8362\n",
      "[6,  4900] loss: 0.8832\n",
      "[6,  5000] loss: 1.0071\n",
      "[6,  5100] loss: 0.9320\n",
      "[6,  5200] loss: 0.8998\n",
      "[6,  5300] loss: 0.9570\n",
      "[6,  5400] loss: 0.8404\n",
      "[6,  5500] loss: 0.8082\n",
      "[6,  5600] loss: 0.9460\n",
      "[6,  5700] loss: 0.7706\n",
      "[6,  5800] loss: 0.7737\n",
      "[6,  5900] loss: 0.8572\n",
      "[6,  6000] loss: 0.7598\n",
      "[6,  6100] loss: 0.7339\n",
      "[6,  6200] loss: 0.8831\n",
      "[6,  6300] loss: 0.9204\n",
      "[6,  6400] loss: 0.8303\n",
      "[6,  6500] loss: 0.9523\n",
      "[6,  6600] loss: 0.7973\n",
      "[6,  6700] loss: 0.9760\n",
      "[6,  6800] loss: 0.7323\n",
      "[6,  6900] loss: 0.8439\n",
      "[6,  7000] loss: 0.8957\n",
      "[6,  7100] loss: 0.8440\n",
      "[6,  7200] loss: 0.8635\n",
      "[6,  7300] loss: 0.9696\n",
      "[6,  7400] loss: 1.0281\n",
      "[6,  7500] loss: 0.8639\n",
      "[6,  7600] loss: 0.9008\n",
      "[6,  7700] loss: 0.9990\n",
      "[6,  7800] loss: 1.0904\n",
      "[6,  7900] loss: 1.0332\n",
      "[6,  8000] loss: 0.7223\n",
      "[6,  8100] loss: 0.8734\n",
      "[6,  8200] loss: 0.7938\n",
      "[6,  8300] loss: 0.7929\n",
      "[6,  8400] loss: 0.9360\n",
      "[6,  8500] loss: 0.8779\n",
      "[6,  8600] loss: 0.9039\n",
      "[7,   100] loss: 0.6290\n",
      "[7,   200] loss: 0.6050\n",
      "[7,   300] loss: 0.5798\n",
      "[7,   400] loss: 0.5901\n",
      "[7,   500] loss: 0.5208\n",
      "[7,   600] loss: 0.7019\n",
      "[7,   700] loss: 0.8191\n",
      "[7,   800] loss: 0.6344\n",
      "[7,   900] loss: 0.5790\n",
      "[7,  1000] loss: 0.7116\n",
      "[7,  1100] loss: 0.7449\n",
      "[7,  1200] loss: 0.6065\n",
      "[7,  1300] loss: 0.6155\n",
      "[7,  1400] loss: 0.5683\n",
      "[7,  1500] loss: 0.5624\n",
      "[7,  1600] loss: 0.6856\n",
      "[7,  1700] loss: 0.5970\n",
      "[7,  1800] loss: 0.6170\n",
      "[7,  1900] loss: 0.6870\n",
      "[7,  2000] loss: 0.6491\n",
      "[7,  2100] loss: 0.7035\n",
      "[7,  2200] loss: 0.6179\n",
      "[7,  2300] loss: 0.6830\n",
      "[7,  2400] loss: 0.7733\n",
      "[7,  2500] loss: 0.5993\n",
      "[7,  2600] loss: 0.7233\n",
      "[7,  2700] loss: 0.7018\n",
      "[7,  2800] loss: 0.7679\n",
      "[7,  2900] loss: 0.6848\n",
      "[7,  3000] loss: 0.6135\n",
      "[7,  3100] loss: 0.6639\n",
      "[7,  3200] loss: 0.6468\n",
      "[7,  3300] loss: 0.6080\n",
      "[7,  3400] loss: 0.7468\n",
      "[7,  3500] loss: 0.8400\n",
      "[7,  3600] loss: 0.6472\n",
      "[7,  3700] loss: 0.6727\n",
      "[7,  3800] loss: 0.6996\n",
      "[7,  3900] loss: 0.7059\n",
      "[7,  4000] loss: 0.7122\n",
      "[7,  4100] loss: 0.7667\n",
      "[7,  4200] loss: 0.8489\n",
      "[7,  4300] loss: 0.5951\n",
      "[7,  4400] loss: 0.6191\n",
      "[7,  4500] loss: 0.5994\n",
      "[7,  4600] loss: 0.7130\n",
      "[7,  4700] loss: 0.7967\n",
      "[7,  4800] loss: 0.6675\n",
      "[7,  4900] loss: 0.7234\n",
      "[7,  5000] loss: 0.6741\n",
      "[7,  5100] loss: 0.7102\n",
      "[7,  5200] loss: 0.6138\n",
      "[7,  5300] loss: 0.6899\n",
      "[7,  5400] loss: 0.7473\n",
      "[7,  5500] loss: 0.6538\n",
      "[7,  5600] loss: 0.6623\n",
      "[7,  5700] loss: 0.6823\n",
      "[7,  5800] loss: 0.7224\n",
      "[7,  5900] loss: 0.7136\n",
      "[7,  6000] loss: 0.7286\n",
      "[7,  6100] loss: 0.7812\n",
      "[7,  6200] loss: 0.7666\n",
      "[7,  6300] loss: 0.8344\n",
      "[7,  6400] loss: 0.7387\n",
      "[7,  6500] loss: 0.6627\n",
      "[7,  6600] loss: 0.7495\n",
      "[7,  6700] loss: 0.7043\n",
      "[7,  6800] loss: 0.7965\n",
      "[7,  6900] loss: 0.7014\n",
      "[7,  7000] loss: 0.7271\n",
      "[7,  7100] loss: 0.6454\n",
      "[7,  7200] loss: 0.6036\n",
      "[7,  7300] loss: 0.6461\n",
      "[7,  7400] loss: 0.8043\n",
      "[7,  7500] loss: 0.6208\n",
      "[7,  7600] loss: 0.6562\n",
      "[7,  7700] loss: 0.7385\n",
      "[7,  7800] loss: 0.6651\n",
      "[7,  7900] loss: 0.6820\n",
      "[7,  8000] loss: 0.6071\n",
      "[7,  8100] loss: 0.7996\n",
      "[7,  8200] loss: 0.7820\n",
      "[7,  8300] loss: 0.6584\n",
      "[7,  8400] loss: 0.6220\n",
      "[7,  8500] loss: 0.7058\n",
      "[7,  8600] loss: 0.5339\n",
      "[8,   100] loss: 0.5263\n",
      "[8,   200] loss: 0.5620\n",
      "[8,   300] loss: 0.5175\n",
      "[8,   400] loss: 0.5615\n",
      "[8,   500] loss: 0.3891\n",
      "[8,   600] loss: 0.4722\n",
      "[8,   700] loss: 0.4427\n",
      "[8,   800] loss: 0.6265\n",
      "[8,   900] loss: 0.5179\n",
      "[8,  1000] loss: 0.5099\n",
      "[8,  1100] loss: 0.4837\n",
      "[8,  1200] loss: 0.4558\n",
      "[8,  1300] loss: 0.5177\n",
      "[8,  1400] loss: 0.4301\n",
      "[8,  1500] loss: 0.5443\n",
      "[8,  1600] loss: 0.4377\n",
      "[8,  1700] loss: 0.4406\n",
      "[8,  1800] loss: 0.4200\n",
      "[8,  1900] loss: 0.4729\n",
      "[8,  2000] loss: 0.4514\n",
      "[8,  2100] loss: 0.4082\n",
      "[8,  2200] loss: 0.5336\n",
      "[8,  2300] loss: 0.4472\n",
      "[8,  2400] loss: 0.5035\n",
      "[8,  2500] loss: 0.5051\n",
      "[8,  2600] loss: 0.5658\n",
      "[8,  2700] loss: 0.4926\n",
      "[8,  2800] loss: 0.5622\n",
      "[8,  2900] loss: 0.4746\n",
      "[8,  3000] loss: 0.4717\n",
      "[8,  3100] loss: 0.5480\n",
      "[8,  3200] loss: 0.5424\n",
      "[8,  3300] loss: 0.5495\n",
      "[8,  3400] loss: 0.5330\n",
      "[8,  3500] loss: 0.5193\n",
      "[8,  3600] loss: 0.4875\n",
      "[8,  3700] loss: 0.5531\n",
      "[8,  3800] loss: 0.4615\n",
      "[8,  3900] loss: 0.4521\n",
      "[8,  4000] loss: 0.5117\n",
      "[8,  4100] loss: 0.5562\n",
      "[8,  4200] loss: 0.5897\n",
      "[8,  4300] loss: 0.3952\n",
      "[8,  4400] loss: 0.4471\n",
      "[8,  4500] loss: 0.6434\n",
      "[8,  4600] loss: 0.5752\n",
      "[8,  4700] loss: 0.5725\n",
      "[8,  4800] loss: 0.5144\n",
      "[8,  4900] loss: 0.5996\n",
      "[8,  5000] loss: 0.4318\n",
      "[8,  5100] loss: 0.4297\n",
      "[8,  5200] loss: 0.4965\n",
      "[8,  5300] loss: 0.5765\n",
      "[8,  5400] loss: 0.5982\n",
      "[8,  5500] loss: 0.5387\n",
      "[8,  5600] loss: 0.5724\n",
      "[8,  5700] loss: 0.5748\n",
      "[8,  5800] loss: 0.5760\n",
      "[8,  5900] loss: 0.5230\n",
      "[8,  6000] loss: 0.5881\n",
      "[8,  6100] loss: 0.5664\n",
      "[8,  6200] loss: 0.6013\n",
      "[8,  6300] loss: 0.5528\n",
      "[8,  6400] loss: 0.5005\n",
      "[8,  6500] loss: 0.4889\n",
      "[8,  6600] loss: 0.5004\n",
      "[8,  6700] loss: 0.4516\n",
      "[8,  6800] loss: 0.6325\n",
      "[8,  6900] loss: 0.5025\n",
      "[8,  7000] loss: 0.4943\n",
      "[8,  7100] loss: 0.6126\n",
      "[8,  7200] loss: 0.5870\n",
      "[8,  7300] loss: 0.6294\n",
      "[8,  7400] loss: 0.6180\n",
      "[8,  7500] loss: 0.4918\n",
      "[8,  7600] loss: 0.4934\n",
      "[8,  7700] loss: 0.5451\n",
      "[8,  7800] loss: 0.4525\n",
      "[8,  7900] loss: 0.6249\n",
      "[8,  8000] loss: 0.4855\n",
      "[8,  8100] loss: 0.5842\n",
      "[8,  8200] loss: 0.4522\n"
     ]
    },
    {
     "name": "stdout",
     "output_type": "stream",
     "text": [
      "[8,  8300] loss: 0.5840\n",
      "[8,  8400] loss: 0.5360\n",
      "[8,  8500] loss: 0.4119\n",
      "[8,  8600] loss: 0.4868\n",
      "Finished Training\n"
     ]
    }
   ],
   "source": [
    "for epoch in range(n_epochs):\n",
    "    running_loss = 0.0\n",
    "    print_every = 100  # pairs\n",
    "    for i, (input_seq, target_seq) in enumerate(trainloader):\n",
    "        # We process one sequence at a time\n",
    "        input_seq, target_seq = input_seq[0], target_seq[0]\n",
    "        input_seq, target_seq = input_seq.to(device), target_seq.to(device)\n",
    "        \n",
    "        encoder_hidden = encoder.init_hidden()\n",
    "        encoder_optimizer.zero_grad()\n",
    "        decoder_optimizer.zero_grad()\n",
    "\n",
    "        #input_length = input_seq.size(0)\n",
    "        target_length = target_seq.size(0)\n",
    "\n",
    "        # YOUR CODE HERE\n",
    "        encoder_outputs, encoder_hidden = encoder(input_seq, encoder_hidden)\n",
    "\n",
    "        if random.random() < teacher_forcing_ratio:\n",
    "            teacher_forcing = True\n",
    "        else:\n",
    "            teacher_forcing = False\n",
    "\n",
    "        decoder_outputs, decoder_hidden = decoder(encoder_hidden, target_seq, teacher_forcing)\n",
    "        \n",
    "        #raise NotImplementedError()\n",
    "       \n",
    "        # Compute the loss\n",
    "        # In case of no teacher forcing, the output sequence can be shorter than the target sequence\n",
    "        # We need to take care of that\n",
    "        output_length, _, output_dictionary_size = decoder_outputs.size()\n",
    "        assert (output_length == target_length) or not teacher_forcing, \\\n",
    "            \"In case of teacher forcing, output_length ({}) should be equal to target_length ({}).\".format(\n",
    "            output_length, target_length)\n",
    "        loss = criterion(decoder_outputs.view(output_length, output_dictionary_size),\n",
    "                         target_seq[:output_length].view(output_length))\n",
    "\n",
    "        loss.backward()\n",
    "\n",
    "        encoder_optimizer.step()\n",
    "        decoder_optimizer.step()\n",
    "\n",
    "        # print statistics\n",
    "        running_loss += loss.item() / target_length\n",
    "        if (i % print_every) == (print_every-1):\n",
    "            print('[%d, %5d] loss: %.4f' % (epoch+1, i+1, running_loss/print_every))\n",
    "            running_loss = 0.0\n",
    "        \n",
    "        if skip_training:\n",
    "            break\n",
    "    if skip_training:\n",
    "        break\n",
    "\n",
    "print('Finished Training')"
   ]
  },
  {
   "cell_type": "markdown",
   "metadata": {
    "deletable": false,
    "editable": false,
    "nbgrader": {
     "cell_type": "markdown",
     "checksum": "bb50b111dd8ead75ed87632cfb7872f7",
     "grade": false,
     "grade_id": "cell-b3fe533e5e20ec47",
     "locked": true,
     "schema_version": 3,
     "solution": false
    }
   },
   "source": [
    "If you do well, the running loss should reach 0.5-0.6.\n",
    "\n",
    "Hint: The training procedure may take an hour on your laptop. You may first train the model for a few epochs, proceed to the following task and train the model longer later again."
   ]
  },
  {
   "cell_type": "code",
   "execution_count": 20,
   "metadata": {
    "deletable": false,
    "editable": false,
    "nbgrader": {
     "cell_type": "code",
     "checksum": "3722b242b6cd6eca203b4b6a81b5fb63",
     "grade": true,
     "grade_id": "accuracy",
     "locked": true,
     "points": 2,
     "schema_version": 3,
     "solution": false
    }
   },
   "outputs": [
    {
     "name": "stdout",
     "output_type": "stream",
     "text": [
      "Do you want to save the model (type yes to confirm)? yes\n",
      "Model saved to 5_encoder.pth, 5_decoder.pth.\n"
     ]
    }
   ],
   "source": [
    "# Save the model to disk, submit these files together with your notebook\n",
    "encoder_filename = '5_encoder.pth'\n",
    "decoder_filename = '5_decoder.pth'\n",
    "if not skip_training:\n",
    "    try:\n",
    "        do_save = input('Do you want to save the model (type yes to confirm)? ').lower()\n",
    "        if do_save == 'yes':\n",
    "            torch.save(encoder.state_dict(), encoder_filename)\n",
    "            torch.save(decoder.state_dict(), decoder_filename)\n",
    "            print('Model saved to %s, %s.' % (encoder_filename, decoder_filename))\n",
    "        else:\n",
    "            print('Model not saved.')\n",
    "    except:\n",
    "        raise Exception('The notebook should be run or validated with skip_training=True.')\n",
    "else:\n",
    "    hidden_size = 256\n",
    "    encoder = Encoder(trainset.input_lang.n_words, hidden_size)\n",
    "    encoder.load_state_dict(torch.load(encoder_filename, map_location=lambda storage, loc: storage))\n",
    "    print('Encoder loaded from %s.' % encoder_filename)\n",
    "    encoder = encoder.to(device)\n",
    "    encoder.eval()\n",
    "\n",
    "    decoder = Decoder(hidden_size, trainset.output_lang.n_words)\n",
    "    decoder.load_state_dict(torch.load(decoder_filename, map_location=lambda storage, loc: storage))\n",
    "    print('Decoder loaded from %s.' % decoder_filename)\n",
    "    decoder = decoder.to(device)\n",
    "    decoder.eval()"
   ]
  },
  {
   "cell_type": "markdown",
   "metadata": {
    "deletable": false,
    "editable": false,
    "nbgrader": {
     "cell_type": "markdown",
     "checksum": "67c82bbbe0d27b3aaaf6246cd11852fb",
     "grade": false,
     "grade_id": "cell-f25db1bf0d47501e",
     "locked": true,
     "schema_version": 3,
     "solution": false
    }
   },
   "source": [
    "## Evaluate the trained model\n",
    "\n",
    "Let us now test the trained model."
   ]
  },
  {
   "cell_type": "code",
   "execution_count": 26,
   "metadata": {
    "deletable": false,
    "editable": false,
    "nbgrader": {
     "cell_type": "code",
     "checksum": "77fc408ffc9d46b1da791870cf5df212",
     "grade": false,
     "grade_id": "cell-03281edb32b8c545",
     "locked": true,
     "schema_version": 3,
     "solution": false
    }
   },
   "outputs": [],
   "source": [
    "# Load the test set\n",
    "testset = TranslationDataset(path=data_dir, train=False)"
   ]
  },
  {
   "cell_type": "markdown",
   "metadata": {
    "deletable": false,
    "editable": false,
    "nbgrader": {
     "cell_type": "markdown",
     "checksum": "00fe50d6c1e60cb04cd2399dc3535352",
     "grade": false,
     "grade_id": "cell-d59c5c7d6ea9f648",
     "locked": true,
     "schema_version": 3,
     "solution": false
    }
   },
   "source": [
    "Your task is to write a function that takes an input sequence (which is a tensor of word indexes) and produces a sequence of outputs using the trained encoder and decoder."
   ]
  },
  {
   "cell_type": "code",
   "execution_count": 27,
   "metadata": {
    "deletable": false,
    "nbgrader": {
     "cell_type": "code",
     "checksum": "2af7fbbc53fdb0a3e736a5047bb57490",
     "grade": false,
     "grade_id": "cell-5ee490b93fd0517e",
     "locked": false,
     "schema_version": 3,
     "solution": true
    }
   },
   "outputs": [],
   "source": [
    "def evaluate(encoder, decoder, input_seq):\n",
    "    \"\"\"Translate given sentence input_seq using trained encoder and decoder.\n",
    "    \n",
    "    Args:\n",
    "      encoder (Encoder): Trained encoder.\n",
    "      decoder (Decoder): Trained decoder.\n",
    "      input_seq (tensor): Tensor of words (word indices) of the input sentence (shape [input_seq_length, 1]).\n",
    "    \n",
    "    Returns:\n",
    "      output_seq (tensor): Tensor of words (word indices) of the output sentence (shape [output_seq_length, 1]).\n",
    "    \"\"\"\n",
    "    # YOUR CODE HERE\n",
    "    with torch.no_grad():\n",
    "        encoder_hidden = encoder.init_hidden()\n",
    "        encoder_outputs, encoder_hidden = encoder.forward(input_seq, encoder_hidden)\n",
    "        decoder_outputs, decoder_hidden = decoder.forward(encoder_hidden, target_seq)\n",
    "#         print(decoder_outputs.shape)\n",
    "        output_vec , output_seq = decoder_outputs.topk(1,dim=2)\n",
    "#         print(output_seq.shape)\n",
    "    return output_seq.view(-1,1)\n",
    "    \n",
    "    \n",
    "    #raise NotImplementedError()"
   ]
  },
  {
   "cell_type": "code",
   "execution_count": 28,
   "metadata": {
    "deletable": false,
    "editable": false,
    "nbgrader": {
     "cell_type": "code",
     "checksum": "013b7c211c7917c2b2c30a1c3dfdb183",
     "grade": true,
     "grade_id": "cell-ac510b081dc92db2",
     "locked": true,
     "points": 2,
     "schema_version": 3,
     "solution": false
    }
   },
   "outputs": [
    {
     "name": "stdout",
     "output_type": "stream",
     "text": [
      "The shapes seem to be ok.\n"
     ]
    }
   ],
   "source": [
    "input_seq = torch.tensor([1, 2, 3, 4], device=device).view(4, 1)  # reshape to (seq_length, 1)\n",
    "output_seq = evaluate(encoder, decoder, input_seq)\n",
    "assert output_seq.shape[0] <= MAX_LENGTH, \\\n",
    "    \"Too long output sequence: output_seq.shape[0]={}\".format(output_seq.shape[0])\n",
    "assert output_seq.shape[1:] == torch.Size([1]), \\\n",
    "    \"Bad shape of output_seq: output_seq.shape[1:]={}, expected={}\".format(output_seq.shape[1:], torch.Size([1]))\n",
    "print('The shapes seem to be ok.')"
   ]
  },
  {
   "cell_type": "markdown",
   "metadata": {
    "deletable": false,
    "editable": false,
    "nbgrader": {
     "cell_type": "markdown",
     "checksum": "3e2b25552c2b42913bd8bf77286fd69e",
     "grade": false,
     "grade_id": "cell-85766e0f0efdf0de",
     "locked": true,
     "schema_version": 3,
     "solution": false
    }
   },
   "source": [
    "Let us now evaluate random sentences from the training set and print the input, target, and output."
   ]
  },
  {
   "cell_type": "code",
   "execution_count": 29,
   "metadata": {
    "deletable": false,
    "editable": false,
    "nbgrader": {
     "cell_type": "code",
     "checksum": "bf5e7330e401a11718155f7b2658a95c",
     "grade": false,
     "grade_id": "cell-267aa3555353e07b",
     "locked": true,
     "schema_version": 3,
     "solution": false
    }
   },
   "outputs": [
    {
     "name": "stdout",
     "output_type": "stream",
     "text": [
      "> je suis tien et tu es mienne . EOS\n",
      "= i am yours and you are mine . EOS\n",
      "< i am yours and you are mine\n",
      "\n",
      "> vous etes tres chouette . EOS\n",
      "= you re very nice . EOS\n",
      "< you re very nice . EOS\n",
      "\n",
      "> vous etes acariatre . EOS\n",
      "= you re cantankerous . EOS\n",
      "< you re crafty . EOS\n",
      "\n",
      "> nous faisons du benevolat . EOS\n",
      "= we re volunteering . EOS\n",
      "< we re volunteering . EOS\n",
      "\n",
      "> vous etes deloyaux . EOS\n",
      "= you re disloyal . EOS\n",
      "< you re disloyal . EOS\n",
      "\n"
     ]
    }
   ],
   "source": [
    "for i in range(5):\n",
    "    input_sentence, target_sentence = trainset[np.random.choice(len(trainset))]\n",
    "    print('>', ' '.join(trainset.input_lang.index2word[i.item()] for i in input_sentence))\n",
    "    print('=', ' '.join(trainset.output_lang.index2word[i.item()] for i in target_sentence))\n",
    "    output_sentence = evaluate(encoder, decoder, input_sentence.to(device)).view(-1).cpu().data.numpy()\n",
    "    print('<', ' '.join(trainset.output_lang.index2word[i] for i in output_sentence))\n",
    "    print('')"
   ]
  },
  {
   "cell_type": "markdown",
   "metadata": {
    "deletable": false,
    "editable": false,
    "nbgrader": {
     "cell_type": "markdown",
     "checksum": "050519a0f219b0102de96b045b9b63b3",
     "grade": false,
     "grade_id": "cell-b28f50fa98ea740b",
     "locked": true,
     "schema_version": 3,
     "solution": false
    }
   },
   "source": [
    "If you trained the model well enough, the model should memorize the training data well."
   ]
  },
  {
   "cell_type": "code",
   "execution_count": 34,
   "metadata": {
    "deletable": false,
    "editable": false,
    "nbgrader": {
     "cell_type": "code",
     "checksum": "3abd187ed77be0b776857be01f416db3",
     "grade": false,
     "grade_id": "cell-1142a3809e449931",
     "locked": true,
     "schema_version": 3,
     "solution": false
    }
   },
   "outputs": [
    {
     "name": "stdout",
     "output_type": "stream",
     "text": [
      "> ils sont en avance . EOS\n",
      "= they re early . EOS\n",
      "< they re early . EOS\n",
      "\n",
      "> vous n etes pas encore morts . EOS\n",
      "= you re not dead yet . EOS\n",
      "< you re not dead yet . EOS\n",
      "\n",
      "> je suis professeur . EOS\n",
      "= i am a professor . EOS\n",
      "< i am a teacher . EOS\n",
      "\n",
      "> nous sommes australiens . EOS\n",
      "= we are australians . EOS\n",
      "< we are australian . EOS\n",
      "\n",
      "> elles sont toutes la dedans . EOS\n",
      "= they re all in there . EOS\n",
      "< they re all here . EOS\n",
      "\n"
     ]
    }
   ],
   "source": [
    "# Evaluate random sentences from the test set and print the input, target, and output\n",
    "for i in range(5):\n",
    "    input_sentence, target_sentence = testset[np.random.choice(len(testset))]\n",
    "    print('>', ' '.join(testset.input_lang.index2word[i.item()] for i in input_sentence))\n",
    "    print('=', ' '.join(testset.output_lang.index2word[i.item()] for i in target_sentence))\n",
    "    output_sentence = evaluate(encoder, decoder, input_sentence.to(device)).view(-1).cpu().data.numpy()\n",
    "    print('<', ' '.join(testset.output_lang.index2word[i] for i in output_sentence))\n",
    "    print('')"
   ]
  },
  {
   "cell_type": "markdown",
   "metadata": {
    "deletable": false,
    "editable": false,
    "nbgrader": {
     "cell_type": "markdown",
     "checksum": "0c55adbcdfea0fbc38fd75f7dd1889d6",
     "grade": false,
     "grade_id": "cell-c30d227d3c34e44b",
     "locked": true,
     "schema_version": 3,
     "solution": false
    }
   },
   "source": [
    "A well-trained model should output sentences that look similar to the target ones. The mistakes are usually done for words that were rare in the training set."
   ]
  },
  {
   "cell_type": "code",
   "execution_count": null,
   "metadata": {},
   "outputs": [],
   "source": []
  }
 ],
 "metadata": {
  "kernelspec": {
   "display_name": "Python 3",
   "language": "python",
   "name": "python3"
  },
  "language_info": {
   "codemirror_mode": {
    "name": "ipython",
    "version": 3
   },
   "file_extension": ".py",
   "mimetype": "text/x-python",
   "name": "python",
   "nbconvert_exporter": "python",
   "pygments_lexer": "ipython3",
   "version": "3.7.3"
  },
  "varInspector": {
   "cols": {
    "lenName": 16,
    "lenType": 16,
    "lenVar": 40
   },
   "kernels_config": {
    "python": {
     "delete_cmd_postfix": "",
     "delete_cmd_prefix": "del ",
     "library": "var_list.py",
     "varRefreshCmd": "print(var_dic_list())"
    },
    "r": {
     "delete_cmd_postfix": ") ",
     "delete_cmd_prefix": "rm(",
     "library": "var_list.r",
     "varRefreshCmd": "cat(var_dic_list()) "
    }
   },
   "types_to_exclude": [
    "module",
    "function",
    "builtin_function_or_method",
    "instance",
    "_Feature"
   ],
   "window_display": false
  }
 },
 "nbformat": 4,
 "nbformat_minor": 2
}
